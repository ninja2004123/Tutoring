{
 "cells": [
  {
   "cell_type": "markdown",
   "metadata": {
    "id": "z5DpHXjMcQYV"
   },
   "source": [
    "**Циклуси**\n",
    "\n",
    "Python има две примитивни команди за циклуси:\n",
    "\n",
    "- while\n",
    "- for (следен час)"
   ]
  },
  {
   "cell_type": "markdown",
   "metadata": {},
   "source": [
    "### Пример 1: Испечати ги првите N природни броеви. Вредност на N ја внесува корисникот од конзола. "
   ]
  },
  {
   "cell_type": "code",
   "execution_count": 2,
   "metadata": {
    "colab": {
     "base_uri": "https://localhost:8080/"
    },
    "id": "c4luWklzcQYW",
    "outputId": "d31d92c9-d74b-4e5d-e5fe-441a58633b0f"
   },
   "outputs": [
    {
     "name": "stdin",
     "output_type": "stream",
     "text": [
      "Vnesi n 5\n"
     ]
    },
    {
     "name": "stdout",
     "output_type": "stream",
     "text": [
      "0\n",
      "1\n",
      "2\n",
      "3\n",
      "4\n"
     ]
    }
   ],
   "source": [
    "n = int(input(\"Vnesi n\"))\n",
    "i = 0\n",
    "while i<n:\n",
    "    print(i)\n",
    "    i+=1"
   ]
  },
  {
   "cell_type": "code",
   "execution_count": 3,
   "metadata": {},
   "outputs": [
    {
     "name": "stdin",
     "output_type": "stream",
     "text": [
      "Vnesi n 8\n"
     ]
    },
    {
     "name": "stdout",
     "output_type": "stream",
     "text": [
      "1\n",
      "2\n",
      "3\n",
      "4\n",
      "5\n",
      "6\n",
      "7\n",
      "8\n"
     ]
    }
   ],
   "source": [
    "n = int(input(\"Vnesi n\"))\n",
    "i = 1\n",
    "while i<=n:\n",
    "    print(i)\n",
    "    i+=1"
   ]
  },
  {
   "cell_type": "markdown",
   "metadata": {
    "id": "kFC1_i2OcQYa"
   },
   "source": [
    "### Пример 2: Да се испечатат сите броеви од 1 до 100, игнорирајќи ги оние кои завршуваат на 0."
   ]
  },
  {
   "cell_type": "code",
   "execution_count": 5,
   "metadata": {
    "colab": {
     "base_uri": "https://localhost:8080/"
    },
    "id": "0zq15H2tcQYa",
    "outputId": "59227df1-6890-4111-f804-ef08a76b9bef"
   },
   "outputs": [
    {
     "name": "stdout",
     "output_type": "stream",
     "text": [
      "1\n",
      "2\n",
      "3\n",
      "4\n",
      "5\n",
      "6\n",
      "7\n",
      "8\n",
      "9\n",
      "11\n",
      "12\n",
      "13\n",
      "14\n",
      "15\n",
      "16\n",
      "17\n",
      "18\n",
      "19\n",
      "21\n",
      "22\n",
      "23\n",
      "24\n",
      "25\n",
      "26\n",
      "27\n",
      "28\n",
      "29\n",
      "31\n",
      "32\n",
      "33\n",
      "34\n",
      "35\n",
      "36\n",
      "37\n",
      "38\n",
      "39\n",
      "41\n",
      "42\n",
      "43\n",
      "44\n",
      "45\n",
      "46\n",
      "47\n",
      "48\n",
      "49\n",
      "51\n",
      "52\n",
      "53\n",
      "54\n",
      "55\n",
      "56\n",
      "57\n",
      "58\n",
      "59\n",
      "61\n",
      "62\n",
      "63\n",
      "64\n",
      "65\n",
      "66\n",
      "67\n",
      "68\n",
      "69\n",
      "71\n",
      "72\n",
      "73\n",
      "74\n",
      "75\n",
      "76\n",
      "77\n",
      "78\n",
      "79\n",
      "81\n",
      "82\n",
      "83\n",
      "84\n",
      "85\n",
      "86\n",
      "87\n",
      "88\n",
      "89\n",
      "91\n",
      "92\n",
      "93\n",
      "94\n",
      "95\n",
      "96\n",
      "97\n",
      "98\n",
      "99\n"
     ]
    }
   ],
   "source": [
    "i=1\n",
    "while i<=100:\n",
    "    c = i%10\n",
    "    if c!=0:\n",
    "        print(i)\n",
    "    i+=1"
   ]
  },
  {
   "cell_type": "markdown",
   "metadata": {
    "id": "_AduVFlWcQYb"
   },
   "source": [
    "### Пример 3: Да се напише програма за пресметување на сумата на сите непарни двоцифрени броеви. Излезот од програмата треба да е следниов: ```11 + 13 + 15 + 17 + 19 + 21 + 23 + 25 + 27 + 29 + 31 + 33 + 35 + 37 + 39 + 41 + 43 + 45 + 47 + 49 + 51 + 53 + 55 + 57 + 59 + 61 + 63 + 65 + 67 + 69 + 71 + 73 + 75 + 77 + 79 + 81 + 83 + 85 + 87 + 89 + 91 + 93 + 95 + 97 + 99 = 2475```"
   ]
  },
  {
   "cell_type": "code",
   "execution_count": 9,
   "metadata": {
    "colab": {
     "base_uri": "https://localhost:8080/"
    },
    "id": "o9JI2wdrcQYb",
    "outputId": "82f3d618-c3bc-46c0-8d3a-e04e79721e5f"
   },
   "outputs": [
    {
     "name": "stdout",
     "output_type": "stream",
     "text": [
      "11 + 13 + 15 + 17 + 19 + 21 + 23 + 25 + 27 + 29 + 31 + 33 + 35 + 37 + 39 + 41 + 43 + 45 + 47 + 49 + 51 + 53 + 55 + 57 + 59 + 61 + 63 + 65 + 67 + 69 + 71 + 73 + 75 + 77 + 79 + 81 + 83 + 85 + 87 + 89 + 91 + 93 + 95 + 97 + 99 = 2475 \n"
     ]
    }
   ],
   "source": [
    "i = 10\n",
    "s = 0\n",
    "rez = ''\n",
    "while i<=99:\n",
    "    if i%2!=0:\n",
    "        s+=i\n",
    "        rez += f'{i} + '\n",
    "    i+=1\n",
    "rez = rez.rstrip('+ ')\n",
    "print(f'{rez} = {s} ')"
   ]
  },
  {
   "cell_type": "code",
   "execution_count": 10,
   "metadata": {},
   "outputs": [
    {
     "name": "stdout",
     "output_type": "stream",
     "text": [
      "11 + 13 + 15 + 17 + 19 + 21 + 23 + 25 + 27 + 29 + 31 + 33 + 35 + 37 + 39 + 41 + 43 + 45 + 47 + 49 + 51 + 53 + 55 + 57 + 59 + 61 + 63 + 65 + 67 + 69 + 71 + 73 + 75 + 77 + 79 + 81 + 83 + 85 + 87 + 89 + 91 + 93 + 95 + 97 + 99 = 2475 \n"
     ]
    }
   ],
   "source": [
    "i = 11\n",
    "s = 0\n",
    "rez = ''\n",
    "while i<=99:\n",
    "    s+=i\n",
    "    rez += f'{i} + '\n",
    "    i+=2\n",
    "rez = rez.rstrip('+ ')\n",
    "print(f'{rez} = {s} ')"
   ]
  },
  {
   "cell_type": "markdown",
   "metadata": {},
   "source": [
    "### Пример 4: Провери дали даден број е палиндром, т.е. дали се чита исто и одлево надесно и оддесно налево. **Пример:**12321 5061605"
   ]
  },
  {
   "cell_type": "code",
   "execution_count": 15,
   "metadata": {},
   "outputs": [
    {
     "name": "stdin",
     "output_type": "stream",
     "text": [
      "vnesi n 123\n"
     ]
    },
    {
     "name": "stdout",
     "output_type": "stream",
     "text": [
      "321\n",
      "NE\n"
     ]
    }
   ],
   "source": [
    "n = int(input(\"vnesi n\"))\n",
    "r_n = 0\n",
    "# temp var for n\n",
    "t_n = n\n",
    "while n>0:\n",
    "    c = n%10\n",
    "    r_n = r_n * 10 + c\n",
    "    n = n//10\n",
    "print(r_n)\n",
    "if r_n == t_n:\n",
    "    print(\"Palindrom\")\n",
    "else:\n",
    "    print(\"NE\")"
   ]
  },
  {
   "cell_type": "markdown",
   "metadata": {
    "id": "ti6b3-MbcQYc"
   },
   "source": [
    "### Пример 5: Да се напише програма што ќе ги испечати сите броеви од зададен опсег кои се палиндроми."
   ]
  },
  {
   "cell_type": "code",
   "execution_count": 17,
   "metadata": {
    "colab": {
     "base_uri": "https://localhost:8080/"
    },
    "id": "o3l5BZvnJXWJ",
    "outputId": "96e19b5c-7059-454c-ebd3-fb87cefaf09a"
   },
   "outputs": [
    {
     "name": "stdin",
     "output_type": "stream",
     "text": [
      "vnesi n 1\n",
      "vnesi m 1000\n"
     ]
    },
    {
     "name": "stdout",
     "output_type": "stream",
     "text": [
      "1\n",
      "2\n",
      "3\n",
      "4\n",
      "5\n",
      "6\n",
      "7\n",
      "8\n",
      "9\n",
      "11\n",
      "22\n",
      "33\n",
      "44\n",
      "55\n",
      "66\n",
      "77\n",
      "88\n",
      "99\n",
      "101\n",
      "111\n",
      "121\n",
      "131\n",
      "141\n",
      "151\n",
      "161\n",
      "171\n",
      "181\n",
      "191\n",
      "202\n",
      "212\n",
      "222\n",
      "232\n",
      "242\n",
      "252\n",
      "262\n",
      "272\n",
      "282\n",
      "292\n",
      "303\n",
      "313\n",
      "323\n",
      "333\n",
      "343\n",
      "353\n",
      "363\n",
      "373\n",
      "383\n",
      "393\n",
      "404\n",
      "414\n",
      "424\n",
      "434\n",
      "444\n",
      "454\n",
      "464\n",
      "474\n",
      "484\n",
      "494\n",
      "505\n",
      "515\n",
      "525\n",
      "535\n",
      "545\n",
      "555\n",
      "565\n",
      "575\n",
      "585\n",
      "595\n",
      "606\n",
      "616\n",
      "626\n",
      "636\n",
      "646\n",
      "656\n",
      "666\n",
      "676\n",
      "686\n",
      "696\n",
      "707\n",
      "717\n",
      "727\n",
      "737\n",
      "747\n",
      "757\n",
      "767\n",
      "777\n",
      "787\n",
      "797\n",
      "808\n",
      "818\n",
      "828\n",
      "838\n",
      "848\n",
      "858\n",
      "868\n",
      "878\n",
      "888\n",
      "898\n",
      "909\n",
      "919\n",
      "929\n",
      "939\n",
      "949\n",
      "959\n",
      "969\n",
      "979\n",
      "989\n",
      "999\n"
     ]
    }
   ],
   "source": [
    "n = int(input(\"vnesi n\"))\n",
    "m = int(input(\"vnesi m\"))\n",
    "\n",
    "while n<m:\n",
    "    r_n = 0\n",
    "    # temp var for n\n",
    "    t_n = n\n",
    "    while n>0:\n",
    "        c = n%10\n",
    "        r_n = r_n * 10 + c\n",
    "        n = n//10\n",
    "    if r_n == t_n:\n",
    "        print(t_n)\n",
    "    n = t_n + 1"
   ]
  },
  {
   "cell_type": "markdown",
   "metadata": {
    "id": "Iq2ShgYqcQYd"
   },
   "source": [
    "### Пример 6: Да се напише програма што на екран ќе ги испечати сите четири-цифрени броеви кај кои збирот на трите најмалку значајни цифри е еднаков со најзначајната цифра. **Пример:** 4031 (4=0+3+1), 5131 (5=1+3+1)\n"
   ]
  },
  {
   "cell_type": "code",
   "execution_count": 18,
   "metadata": {
    "colab": {
     "base_uri": "https://localhost:8080/"
    },
    "id": "t36JXVvLcQYd",
    "outputId": "77c52cef-5741-41c7-97d6-a6e414ddfc6c"
   },
   "outputs": [
    {
     "name": "stdout",
     "output_type": "stream",
     "text": [
      "1001\n",
      "1010\n",
      "1100\n",
      "2002\n",
      "2011\n",
      "2020\n",
      "2101\n",
      "2110\n",
      "2200\n",
      "3003\n",
      "3012\n",
      "3021\n",
      "3030\n",
      "3102\n",
      "3111\n",
      "3120\n",
      "3201\n",
      "3210\n",
      "3300\n",
      "4004\n",
      "4013\n",
      "4022\n",
      "4031\n",
      "4040\n",
      "4103\n",
      "4112\n",
      "4121\n",
      "4130\n",
      "4202\n",
      "4211\n",
      "4220\n",
      "4301\n",
      "4310\n",
      "4400\n",
      "5005\n",
      "5014\n",
      "5023\n",
      "5032\n",
      "5041\n",
      "5050\n",
      "5104\n",
      "5113\n",
      "5122\n",
      "5131\n",
      "5140\n",
      "5203\n",
      "5212\n",
      "5221\n",
      "5230\n",
      "5302\n",
      "5311\n",
      "5320\n",
      "5401\n",
      "5410\n",
      "5500\n",
      "6006\n",
      "6015\n",
      "6024\n",
      "6033\n",
      "6042\n",
      "6051\n",
      "6060\n",
      "6105\n",
      "6114\n",
      "6123\n",
      "6132\n",
      "6141\n",
      "6150\n",
      "6204\n",
      "6213\n",
      "6222\n",
      "6231\n",
      "6240\n",
      "6303\n",
      "6312\n",
      "6321\n",
      "6330\n",
      "6402\n",
      "6411\n",
      "6420\n",
      "6501\n",
      "6510\n",
      "6600\n",
      "7007\n",
      "7016\n",
      "7025\n",
      "7034\n",
      "7043\n",
      "7052\n",
      "7061\n",
      "7070\n",
      "7106\n",
      "7115\n",
      "7124\n",
      "7133\n",
      "7142\n",
      "7151\n",
      "7160\n",
      "7205\n",
      "7214\n",
      "7223\n",
      "7232\n",
      "7241\n",
      "7250\n",
      "7304\n",
      "7313\n",
      "7322\n",
      "7331\n",
      "7340\n",
      "7403\n",
      "7412\n",
      "7421\n",
      "7430\n",
      "7502\n",
      "7511\n",
      "7520\n",
      "7601\n",
      "7610\n",
      "7700\n",
      "8008\n",
      "8017\n",
      "8026\n",
      "8035\n",
      "8044\n",
      "8053\n",
      "8062\n",
      "8071\n",
      "8080\n",
      "8107\n",
      "8116\n",
      "8125\n",
      "8134\n",
      "8143\n",
      "8152\n",
      "8161\n",
      "8170\n",
      "8206\n",
      "8215\n",
      "8224\n",
      "8233\n",
      "8242\n",
      "8251\n",
      "8260\n",
      "8305\n",
      "8314\n",
      "8323\n",
      "8332\n",
      "8341\n",
      "8350\n",
      "8404\n",
      "8413\n",
      "8422\n",
      "8431\n",
      "8440\n",
      "8503\n",
      "8512\n",
      "8521\n",
      "8530\n",
      "8602\n",
      "8611\n",
      "8620\n",
      "8701\n",
      "8710\n",
      "8800\n",
      "9009\n",
      "9018\n",
      "9027\n",
      "9036\n",
      "9045\n",
      "9054\n",
      "9063\n",
      "9072\n",
      "9081\n",
      "9090\n",
      "9108\n",
      "9117\n",
      "9126\n",
      "9135\n",
      "9144\n",
      "9153\n",
      "9162\n",
      "9171\n",
      "9180\n",
      "9207\n",
      "9216\n",
      "9225\n",
      "9234\n",
      "9243\n",
      "9252\n",
      "9261\n",
      "9270\n",
      "9306\n",
      "9315\n",
      "9324\n",
      "9333\n",
      "9342\n",
      "9351\n",
      "9360\n",
      "9405\n",
      "9414\n",
      "9423\n",
      "9432\n",
      "9441\n",
      "9450\n",
      "9504\n",
      "9513\n",
      "9522\n",
      "9531\n",
      "9540\n",
      "9603\n",
      "9612\n",
      "9621\n",
      "9630\n",
      "9702\n",
      "9711\n",
      "9720\n",
      "9801\n",
      "9810\n",
      "9900\n"
     ]
    }
   ],
   "source": [
    "i = 1000\n",
    "\n",
    "while i <= 9999:\n",
    "    prva = i // 1000\n",
    "    vtora = (i // 100) % 10\n",
    "    treta = (i // 10) % 10\n",
    "    cetv = i % 10\n",
    "    if prva == vtora + treta + cetv:\n",
    "        print(i)\n",
    "    i += 1"
   ]
  },
  {
   "cell_type": "markdown",
   "metadata": {
    "id": "XJoY5T1ScQYe"
   },
   "source": [
    "### Пример 7: Понудете на корисниците низа на избори и потоа реагирајте на тие избори сè додека не изберат да завршат. Да го анализираме кодот:"
   ]
  },
  {
   "cell_type": "code",
   "execution_count": 20,
   "metadata": {
    "colab": {
     "base_uri": "https://localhost:8080/"
    },
    "id": "o8kyl2s6cQYe",
    "outputId": "4051d4da-e0ab-48dd-98ce-651dd5d19070"
   },
   "outputs": [
    {
     "name": "stdout",
     "output_type": "stream",
     "text": [
      "\n",
      "[1] Enter 1 to go for a run.\n",
      "[q] Enter q to quit.\n"
     ]
    },
    {
     "name": "stdin",
     "output_type": "stream",
     "text": [
      "\n",
      "What would you like to do?  1\n"
     ]
    },
    {
     "name": "stdout",
     "output_type": "stream",
     "text": [
      "\n",
      "Here are some running shoes. Run fast!\n",
      "\n",
      "\n",
      "[1] Enter 1 to go for a run.\n",
      "[q] Enter q to quit.\n"
     ]
    },
    {
     "name": "stdin",
     "output_type": "stream",
     "text": [
      "\n",
      "What would you like to do?  1\n"
     ]
    },
    {
     "name": "stdout",
     "output_type": "stream",
     "text": [
      "\n",
      "Here are some running shoes. Run fast!\n",
      "\n",
      "\n",
      "[1] Enter 1 to go for a run.\n",
      "[q] Enter q to quit.\n"
     ]
    },
    {
     "name": "stdin",
     "output_type": "stream",
     "text": [
      "\n",
      "What would you like to do?  1\n"
     ]
    },
    {
     "name": "stdout",
     "output_type": "stream",
     "text": [
      "\n",
      "Here are some running shoes. Run fast!\n",
      "\n",
      "\n",
      "[1] Enter 1 to go for a run.\n",
      "[q] Enter q to quit.\n"
     ]
    },
    {
     "name": "stdin",
     "output_type": "stream",
     "text": [
      "\n",
      "What would you like to do?  1\n"
     ]
    },
    {
     "name": "stdout",
     "output_type": "stream",
     "text": [
      "\n",
      "Here are some running shoes. Run fast!\n",
      "\n",
      "\n",
      "[1] Enter 1 to go for a run.\n",
      "[q] Enter q to quit.\n"
     ]
    },
    {
     "name": "stdin",
     "output_type": "stream",
     "text": [
      "\n",
      "What would you like to do?  q\n"
     ]
    },
    {
     "name": "stdout",
     "output_type": "stream",
     "text": [
      "\n",
      "Thanks for playing. See you later.\n",
      "\n",
      "Thanks again, bye now.\n"
     ]
    }
   ],
   "source": [
    "choice = ''\n",
    "\n",
    "# Start a loop that runs until the user enters the value for 'quit'.\n",
    "while choice != 'q':\n",
    "    # Give all the choices in a series of print statements.\n",
    "    print(\"\\n[1] Enter 1 to go for a run.\")\n",
    "    print(\"[q] Enter q to quit.\")\n",
    "\n",
    "    # Ask for the user's choice.\n",
    "    choice = input(\"\\nWhat would you like to do? \")\n",
    "\n",
    "    if choice == '1':\n",
    "        print(\"\\nHere are some running shoes. Run fast!\\n\")\n",
    "    elif choice == 'q':\n",
    "        print(\"\\nThanks for playing. See you later.\\n\")\n",
    "    else:\n",
    "        print(\"\\nI don't understand that choice, please try again.\\n\")\n",
    "\n",
    "# Print a message that we are all finished.\n",
    "print(\"Thanks again, bye now.\")"
   ]
  },
  {
   "cell_type": "markdown",
   "metadata": {},
   "source": [
    "### Како може на друг начин да се прекине циклусот?"
   ]
  },
  {
   "cell_type": "code",
   "execution_count": 23,
   "metadata": {},
   "outputs": [
    {
     "name": "stdout",
     "output_type": "stream",
     "text": [
      "\n",
      "[1] Enter 1 to go for a run.\n",
      "[q] Enter q to quit.\n"
     ]
    },
    {
     "name": "stdin",
     "output_type": "stream",
     "text": [
      "\n",
      "What would you like to do?  1\n"
     ]
    },
    {
     "name": "stdout",
     "output_type": "stream",
     "text": [
      "\n",
      "Here are some running shoes. Run fast!\n",
      "\n",
      "\n",
      "[1] Enter 1 to go for a run.\n",
      "[q] Enter q to quit.\n"
     ]
    },
    {
     "name": "stdin",
     "output_type": "stream",
     "text": [
      "\n",
      "What would you like to do?  3\n"
     ]
    },
    {
     "name": "stdout",
     "output_type": "stream",
     "text": [
      "\n",
      "I don't understand that choice, please try again.\n",
      "\n",
      "executing still\n",
      "\n",
      "[1] Enter 1 to go for a run.\n",
      "[q] Enter q to quit.\n"
     ]
    },
    {
     "name": "stdin",
     "output_type": "stream",
     "text": [
      "\n",
      "What would you like to do?  q\n"
     ]
    },
    {
     "name": "stdout",
     "output_type": "stream",
     "text": [
      "\n",
      "Thanks for playing. See you later.\n",
      "\n",
      "Thanks again, bye now.\n"
     ]
    }
   ],
   "source": [
    "# Start a loop that runs until the user enters the value for 'quit'.\n",
    "while 1:\n",
    "    # Give all the choices in a series of print statements.\n",
    "    print(\"\\n[1] Enter 1 to go for a run.\")\n",
    "    print(\"[q] Enter q to quit.\")\n",
    "\n",
    "    # Ask for the user's choice.\n",
    "    choice = input(\"\\nWhat would you like to do? \")\n",
    "\n",
    "    if choice == '1':\n",
    "        print(\"\\nHere are some running shoes. Run fast!\\n\")\n",
    "        continue\n",
    "    elif choice == 'q':\n",
    "        print(\"\\nThanks for playing. See you later.\\n\")\n",
    "        break\n",
    "    else:\n",
    "        print(\"\\nI don't understand that choice, please try again.\\n\")\n",
    "\n",
    "    print(\"executing still\")\n",
    "\n",
    "# Print a message that we are all finished.\n",
    "print(\"Thanks again, bye now.\")"
   ]
  },
  {
   "cell_type": "markdown",
   "metadata": {},
   "source": [
    "### Пример 8: Од стандарден влез се чита еден цели број n, по што се читаат n цели броеви. Да се најде најголемата разлика помеѓу два броја, од вака внесените броеви."
   ]
  },
  {
   "cell_type": "code",
   "execution_count": 25,
   "metadata": {},
   "outputs": [
    {
     "name": "stdin",
     "output_type": "stream",
     "text": [
      "Vnesi n 5\n",
      "Vnesi broj -15\n",
      "Vnesi broj -20\n",
      "Vnesi broj 32\n",
      "Vnesi broj 45\n",
      "Vnesi broj 10\n"
     ]
    },
    {
     "name": "stdout",
     "output_type": "stream",
     "text": [
      "45\n",
      "-20\n",
      "65\n"
     ]
    }
   ],
   "source": [
    "n = int(input(\"Vnesi n\"))\n",
    "\n",
    "i = 0\n",
    "\n",
    "maxi = 0\n",
    "mini = 0\n",
    "\n",
    "flag_init = -1\n",
    "\n",
    "while i<n:\n",
    "    b = int(input(\"Vnesi broj\"))\n",
    "\n",
    "    if flag_init == -1:\n",
    "        maxi = b\n",
    "        mini = b\n",
    "        flag_init = 1\n",
    "\n",
    "    if b >= maxi:\n",
    "        maxi = b\n",
    "\n",
    "    if b <= mini:\n",
    "        mini = b\n",
    "\n",
    "    i+=1\n",
    "\n",
    "print(maxi)\n",
    "print(mini)\n",
    "\n",
    "print(maxi-mini)"
   ]
  },
  {
   "cell_type": "markdown",
   "metadata": {},
   "source": [
    "### Пример 9: Од стандарден влез се чита еден природен број n. Меѓу природните броеви помали од n, да се најде оној чиј што збир на делителите е најголем. Во пресметувањето на збирот на делителите на даден број, да не се зема предвид самиот број."
   ]
  },
  {
   "cell_type": "code",
   "execution_count": 28,
   "metadata": {},
   "outputs": [
    {
     "name": "stdin",
     "output_type": "stream",
     "text": [
      "Vnesi n 50\n"
     ]
    },
    {
     "name": "stdout",
     "output_type": "stream",
     "text": [
      "Brojot 48 so suma na del=76\n"
     ]
    }
   ],
   "source": [
    "n = int(input(\"Vnesi n\"))\n",
    "\n",
    "i = 1\n",
    "\n",
    "max_b = 0\n",
    "max_suma = 0\n",
    "\n",
    "while i<n:\n",
    "    tmp = 1\n",
    "    suma = 0\n",
    "    while tmp < i:\n",
    "        if i % tmp == 0:\n",
    "            suma += tmp\n",
    "        tmp+=1\n",
    "\n",
    "    if suma >= max_suma:\n",
    "        max_suma = suma\n",
    "        max_b = i\n",
    "\n",
    "    i+=1\n",
    "\n",
    "print(f'Brojot {max_b} so suma na del={max_suma}')"
   ]
  },
  {
   "cell_type": "markdown",
   "metadata": {},
   "source": [
    "### Пример 10: while со else"
   ]
  },
  {
   "cell_type": "code",
   "execution_count": 29,
   "metadata": {},
   "outputs": [
    {
     "name": "stdin",
     "output_type": "stream",
     "text": [
      "Vnesi n 5\n"
     ]
    },
    {
     "name": "stdout",
     "output_type": "stream",
     "text": [
      "0\n",
      "1\n",
      "2\n",
      "3\n",
      "4\n",
      "kraj na ciklus\n"
     ]
    }
   ],
   "source": [
    "n = int(input(\"Vnesi n\"))\n",
    "i = 0\n",
    "while i<n:\n",
    "    print(i)\n",
    "    i+=1\n",
    "else:\n",
    "    print(\"kraj na ciklus\")"
   ]
  }
 ],
 "metadata": {
  "colab": {
   "provenance": []
  },
  "kernelspec": {
   "display_name": "Python 3 (ipykernel)",
   "language": "python",
   "name": "python3"
  },
  "language_info": {
   "codemirror_mode": {
    "name": "ipython",
    "version": 3
   },
   "file_extension": ".py",
   "mimetype": "text/x-python",
   "name": "python",
   "nbconvert_exporter": "python",
   "pygments_lexer": "ipython3",
   "version": "3.11.9"
  },
  "toc": {
   "base_numbering": 1,
   "nav_menu": {},
   "number_sections": true,
   "sideBar": true,
   "skip_h1_title": false,
   "title_cell": "Table of Contents",
   "title_sidebar": "Contents",
   "toc_cell": false,
   "toc_position": {},
   "toc_section_display": true,
   "toc_window_display": false
  }
 },
 "nbformat": 4,
 "nbformat_minor": 4
}
